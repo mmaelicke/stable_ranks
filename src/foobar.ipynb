{
 "cells": [
  {
   "cell_type": "markdown",
   "metadata": {
    "vscode": {
     "languageId": "plaintext"
    }
   },
   "source": [
    "# Jupyter template\n",
    "\n",
    "This template follows the tool-specs for reproducible research found at: [https://vforwater.github.io/tool-specs/](https://vforwater.github.io/tool-specs/).\n",
    "\n",
    "This template is uses Jupyter notebooks as the executable. It will be run via papermill, if you don't change the entrypoint and command in the Dockerfile. This template illustrates two different ways how to interact with user input and data."
   ]
  },
  {
   "cell_type": "markdown",
   "metadata": {},
   "source": [
    "## handle parameters by defining them globally\n",
    "\n",
    "In this variant, you introduce all parameters as specified in the `tool.yml` metadata file as global Python variables in a cell marked as `parameters`. Then papermill will automatically parse the user input and inject them into the notebook (default papermill behavior).\n"
   ]
  },
  {
   "cell_type": "code",
   "execution_count": null,
   "metadata": {
    "tags": [
     "parameters"
    ]
   },
   "outputs": [],
   "source": [
    "# set all parameters as specified in the tool.yml. papermill will overwrite these values\n",
    "foo_int = None\n",
    "foo_float = None\n",
    "foo_string = None\n",
    "foo_enum = None\n",
    "foo_array = None\n",
    "foo_matrix = None\n",
    "foo_csv = None"
   ]
  },
  {
   "cell_type": "code",
   "execution_count": null,
   "metadata": {},
   "outputs": [],
   "source": [
    "# now use the parameters:\n",
    "print(f\"foo_int: {foo_int}\")\n",
    "print(f\"foo_float: {foo_float}\")\n",
    "print(f\"foo_string: {foo_string}\")\n",
    "print(f\"foo_enum: {foo_enum}\")\n",
    "print(f\"foo_array: {foo_array}\")\n",
    "\n",
    "# and the data\n",
    "import numpy as np\n",
    "import pandas as pd\n",
    "\n",
    "print('foo_matrix\\n----------')\n",
    "print(np.loadtxt(foo_matrix))\n",
    "\n",
    "print('foo_csv\\n----------')\n",
    "pd.read_csv(foo_csv)"
   ]
  },
  {
   "cell_type": "markdown",
   "metadata": {},
   "source": [
    "## handle parameters directly in the notebook\n",
    "\n",
    "This is an **alternative** approach to the globally defined parameters. All tool-spec compliant tools using a supported language include a package called `json2args` in their dependencies. This package can be used to gain larger control over the passed parameters and data."
   ]
  },
  {
   "cell_type": "code",
   "execution_count": null,
   "metadata": {},
   "outputs": [],
   "source": [
    "from json2args import get_parameter\n",
    "from json2args.data import get_data, get_data_paths\n",
    "\n",
    "# if typed is set to True, the parameter will be a pydantic model\n",
    "params = get_parameter(typed=True)\n",
    "params"
   ]
  },
  {
   "cell_type": "code",
   "execution_count": null,
   "metadata": {},
   "outputs": [],
   "source": [
    "# dump the model\n",
    "params.model_dump()"
   ]
  },
  {
   "cell_type": "code",
   "execution_count": null,
   "metadata": {},
   "outputs": [],
   "source": [
    "# transform to dict\n",
    "dict(params)"
   ]
  },
  {
   "cell_type": "markdown",
   "metadata": {},
   "source": [
    "### handle data"
   ]
  },
  {
   "cell_type": "code",
   "execution_count": null,
   "metadata": {},
   "outputs": [],
   "source": [
    "# you can make json2args to guess the format and auto-parse\n",
    "df = get_data('foo_csv')\n",
    "print(type(df))\n",
    "df"
   ]
  },
  {
   "cell_type": "code",
   "execution_count": null,
   "metadata": {},
   "outputs": [],
   "source": [
    "mat = get_data('foo_matrix')\n",
    "print(type(mat))\n",
    "mat"
   ]
  },
  {
   "cell_type": "code",
   "execution_count": null,
   "metadata": {},
   "outputs": [],
   "source": [
    "# alternatively you can work with the paths to the data inside the container\n",
    "print(get_data_paths())"
   ]
  },
  {
   "cell_type": "code",
   "execution_count": null,
   "metadata": {},
   "outputs": [],
   "source": [
    "%cat /in/foo_csv.csv"
   ]
  }
 ],
 "metadata": {
  "kernelspec": {
   "display_name": "Python 3 (ipykernel)",
   "language": "python",
   "name": "python3"
  },
  "language_info": {
   "codemirror_mode": {
    "name": "ipython",
    "version": 3
   },
   "file_extension": ".py",
   "mimetype": "text/x-python",
   "name": "python",
   "nbconvert_exporter": "python",
   "pygments_lexer": "ipython3",
   "version": "3.12.7"
  }
 },
 "nbformat": 4,
 "nbformat_minor": 4
}
