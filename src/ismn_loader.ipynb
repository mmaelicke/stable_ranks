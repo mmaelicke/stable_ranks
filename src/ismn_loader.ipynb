{
 "cells": [
  {
   "cell_type": "code",
   "execution_count": 5,
   "metadata": {
    "tags": [
     "parameters"
    ]
   },
   "outputs": [],
   "source": [
    "database_name = 'ismn.duckdb'\n",
    "force_rebuild_duckdb = False"
   ]
  },
  {
   "cell_type": "code",
   "execution_count": 11,
   "metadata": {},
   "outputs": [
    {
     "data": {
      "text/plain": [
       "PosixPath('/out/ismn.duckdb')"
      ]
     },
     "execution_count": 11,
     "metadata": {},
     "output_type": "execute_result"
    }
   ],
   "source": [
    "import glob\n",
    "from pathlib import Path\n",
    "from metacatalog_api import core\n",
    "from metacatalog_api import db\n",
    "\n",
    "import duckdb\n",
    "\n",
    "# build the Duckdb path\n",
    "db_path = Path('/out') / database_name\n",
    "db_path"
   ]
  },
  {
   "cell_type": "code",
   "execution_count": 13,
   "metadata": {},
   "outputs": [],
   "source": [
    "# check if this MetaCatalog instance is a new one\n",
    "with core.connect() as con:\n",
    "    if not db.check_installed(con):\n",
    "        db.install(con)"
   ]
  },
  {
   "cell_type": "code",
   "execution_count": 4,
   "metadata": {},
   "outputs": [
    {
     "name": "stdout",
     "output_type": "stream",
     "text": [
      "25349\n"
     ]
    }
   ],
   "source": [
    "all_files = glob.glob('/data/**/**/*.stm')\n",
    "print(len(all_files))"
   ]
  },
  {
   "cell_type": "code",
   "execution_count": 6,
   "metadata": {},
   "outputs": [
    {
     "name": "stderr",
     "output_type": "stream",
     "text": [
      "100%|██████████| 25349/25349 [00:06<00:00, 3744.27it/s]\n"
     ]
    },
    {
     "data": {
      "text/html": [
       "<div>\n",
       "<style scoped>\n",
       "    .dataframe tbody tr th:only-of-type {\n",
       "        vertical-align: middle;\n",
       "    }\n",
       "\n",
       "    .dataframe tbody tr th {\n",
       "        vertical-align: top;\n",
       "    }\n",
       "\n",
       "    .dataframe thead th {\n",
       "        text-align: right;\n",
       "    }\n",
       "</style>\n",
       "<table border=\"1\" class=\"dataframe\">\n",
       "  <thead>\n",
       "    <tr style=\"text-align: right;\">\n",
       "      <th></th>\n",
       "      <th>network</th>\n",
       "      <th>station</th>\n",
       "      <th>station_name</th>\n",
       "      <th>lat</th>\n",
       "      <th>lon</th>\n",
       "      <th>elevation</th>\n",
       "      <th>depth_from</th>\n",
       "      <th>depth_to</th>\n",
       "      <th>variable</th>\n",
       "      <th>device</th>\n",
       "      <th>filename</th>\n",
       "    </tr>\n",
       "  </thead>\n",
       "  <tbody>\n",
       "    <tr>\n",
       "      <th>0</th>\n",
       "      <td>AWDN</td>\n",
       "      <td>AWDN</td>\n",
       "      <td>NorthPlatte</td>\n",
       "      <td>41.05000</td>\n",
       "      <td>-100.46000</td>\n",
       "      <td>861.0</td>\n",
       "      <td>0.10</td>\n",
       "      <td>0.10</td>\n",
       "      <td>sm</td>\n",
       "      <td>ThetaProbe ML2X</td>\n",
       "      <td>AWDN_AWDN_NorthPlatte_sm_0.100000_0.100000_The...</td>\n",
       "    </tr>\n",
       "    <tr>\n",
       "      <th>1</th>\n",
       "      <td>AWDN</td>\n",
       "      <td>AWDN</td>\n",
       "      <td>NorthPlatte</td>\n",
       "      <td>41.05000</td>\n",
       "      <td>-100.46000</td>\n",
       "      <td>861.0</td>\n",
       "      <td>0.50</td>\n",
       "      <td>0.50</td>\n",
       "      <td>sm</td>\n",
       "      <td>ThetaProbe ML2X</td>\n",
       "      <td>AWDN_AWDN_NorthPlatte_sm_0.500000_0.500000_The...</td>\n",
       "    </tr>\n",
       "    <tr>\n",
       "      <th>2</th>\n",
       "      <td>AWDN</td>\n",
       "      <td>AWDN</td>\n",
       "      <td>NorthPlatte</td>\n",
       "      <td>41.05000</td>\n",
       "      <td>-100.46000</td>\n",
       "      <td>861.0</td>\n",
       "      <td>1.00</td>\n",
       "      <td>1.00</td>\n",
       "      <td>sm</td>\n",
       "      <td>ThetaProbe ML2X</td>\n",
       "      <td>AWDN_AWDN_NorthPlatte_sm_1.000000_1.000000_The...</td>\n",
       "    </tr>\n",
       "    <tr>\n",
       "      <th>3</th>\n",
       "      <td>AWDN</td>\n",
       "      <td>AWDN</td>\n",
       "      <td>NorthPlatte</td>\n",
       "      <td>41.05000</td>\n",
       "      <td>-100.46000</td>\n",
       "      <td>861.0</td>\n",
       "      <td>0.25</td>\n",
       "      <td>0.25</td>\n",
       "      <td>sm</td>\n",
       "      <td>ThetaProbe ML2X</td>\n",
       "      <td>AWDN_AWDN_NorthPlatte_sm_0.250000_0.250000_The...</td>\n",
       "    </tr>\n",
       "    <tr>\n",
       "      <th>4</th>\n",
       "      <td>AWDN</td>\n",
       "      <td>AWDN</td>\n",
       "      <td>Smithfield</td>\n",
       "      <td>40.35000</td>\n",
       "      <td>-99.40000</td>\n",
       "      <td>768.0</td>\n",
       "      <td>1.00</td>\n",
       "      <td>1.00</td>\n",
       "      <td>sm</td>\n",
       "      <td>ThetaProbe ML2X</td>\n",
       "      <td>AWDN_AWDN_Smithfield_sm_1.000000_1.000000_Thet...</td>\n",
       "    </tr>\n",
       "    <tr>\n",
       "      <th>...</th>\n",
       "      <td>...</td>\n",
       "      <td>...</td>\n",
       "      <td>...</td>\n",
       "      <td>...</td>\n",
       "      <td>...</td>\n",
       "      <td>...</td>\n",
       "      <td>...</td>\n",
       "      <td>...</td>\n",
       "      <td>...</td>\n",
       "      <td>...</td>\n",
       "      <td>...</td>\n",
       "    </tr>\n",
       "    <tr>\n",
       "      <th>25344</th>\n",
       "      <td>IMA-CAN1</td>\n",
       "      <td>IMA-CAN1</td>\n",
       "      <td>station3</td>\n",
       "      <td>44.68241</td>\n",
       "      <td>8.62657</td>\n",
       "      <td>272.7</td>\n",
       "      <td>0.10</td>\n",
       "      <td>0.10</td>\n",
       "      <td>sm</td>\n",
       "      <td>5TM</td>\n",
       "      <td>IMA-CAN1_IMA-CAN1_station3_sm_0.100000_0.10000...</td>\n",
       "    </tr>\n",
       "    <tr>\n",
       "      <th>25345</th>\n",
       "      <td>IMA-CAN1</td>\n",
       "      <td>IMA-CAN1</td>\n",
       "      <td>station10</td>\n",
       "      <td>44.68275</td>\n",
       "      <td>8.62636</td>\n",
       "      <td>278.5</td>\n",
       "      <td>0.10</td>\n",
       "      <td>0.10</td>\n",
       "      <td>sm</td>\n",
       "      <td>5TM</td>\n",
       "      <td>IMA-CAN1_IMA-CAN1_station10_sm_0.100000_0.1000...</td>\n",
       "    </tr>\n",
       "    <tr>\n",
       "      <th>25346</th>\n",
       "      <td>IMA-CAN1</td>\n",
       "      <td>IMA-CAN1</td>\n",
       "      <td>station10</td>\n",
       "      <td>44.68275</td>\n",
       "      <td>8.62636</td>\n",
       "      <td>278.5</td>\n",
       "      <td>0.10</td>\n",
       "      <td>0.10</td>\n",
       "      <td>ts</td>\n",
       "      <td>5TM</td>\n",
       "      <td>IMA-CAN1_IMA-CAN1_station10_ts_0.100000_0.1000...</td>\n",
       "    </tr>\n",
       "    <tr>\n",
       "      <th>25347</th>\n",
       "      <td>IMA-CAN1</td>\n",
       "      <td>IMA-CAN1</td>\n",
       "      <td>station11</td>\n",
       "      <td>44.68253</td>\n",
       "      <td>8.62671</td>\n",
       "      <td>272.6</td>\n",
       "      <td>0.10</td>\n",
       "      <td>0.10</td>\n",
       "      <td>sm</td>\n",
       "      <td>5TM</td>\n",
       "      <td>IMA-CAN1_IMA-CAN1_station11_sm_0.100000_0.1000...</td>\n",
       "    </tr>\n",
       "    <tr>\n",
       "      <th>25348</th>\n",
       "      <td>IMA-CAN1</td>\n",
       "      <td>IMA-CAN1</td>\n",
       "      <td>station11</td>\n",
       "      <td>44.68253</td>\n",
       "      <td>8.62671</td>\n",
       "      <td>272.6</td>\n",
       "      <td>0.10</td>\n",
       "      <td>0.10</td>\n",
       "      <td>ts</td>\n",
       "      <td>5TM</td>\n",
       "      <td>IMA-CAN1_IMA-CAN1_station11_ts_0.100000_0.1000...</td>\n",
       "    </tr>\n",
       "  </tbody>\n",
       "</table>\n",
       "<p>25349 rows × 11 columns</p>\n",
       "</div>"
      ],
      "text/plain": [
       "        network   station station_name       lat        lon  elevation  \\\n",
       "0          AWDN      AWDN  NorthPlatte  41.05000 -100.46000      861.0   \n",
       "1          AWDN      AWDN  NorthPlatte  41.05000 -100.46000      861.0   \n",
       "2          AWDN      AWDN  NorthPlatte  41.05000 -100.46000      861.0   \n",
       "3          AWDN      AWDN  NorthPlatte  41.05000 -100.46000      861.0   \n",
       "4          AWDN      AWDN   Smithfield  40.35000  -99.40000      768.0   \n",
       "...         ...       ...          ...       ...        ...        ...   \n",
       "25344  IMA-CAN1  IMA-CAN1     station3  44.68241    8.62657      272.7   \n",
       "25345  IMA-CAN1  IMA-CAN1    station10  44.68275    8.62636      278.5   \n",
       "25346  IMA-CAN1  IMA-CAN1    station10  44.68275    8.62636      278.5   \n",
       "25347  IMA-CAN1  IMA-CAN1    station11  44.68253    8.62671      272.6   \n",
       "25348  IMA-CAN1  IMA-CAN1    station11  44.68253    8.62671      272.6   \n",
       "\n",
       "       depth_from  depth_to variable           device  \\\n",
       "0            0.10      0.10       sm  ThetaProbe ML2X   \n",
       "1            0.50      0.50       sm  ThetaProbe ML2X   \n",
       "2            1.00      1.00       sm  ThetaProbe ML2X   \n",
       "3            0.25      0.25       sm  ThetaProbe ML2X   \n",
       "4            1.00      1.00       sm  ThetaProbe ML2X   \n",
       "...           ...       ...      ...              ...   \n",
       "25344        0.10      0.10       sm              5TM   \n",
       "25345        0.10      0.10       sm              5TM   \n",
       "25346        0.10      0.10       ts              5TM   \n",
       "25347        0.10      0.10       sm              5TM   \n",
       "25348        0.10      0.10       ts              5TM   \n",
       "\n",
       "                                                filename  \n",
       "0      AWDN_AWDN_NorthPlatte_sm_0.100000_0.100000_The...  \n",
       "1      AWDN_AWDN_NorthPlatte_sm_0.500000_0.500000_The...  \n",
       "2      AWDN_AWDN_NorthPlatte_sm_1.000000_1.000000_The...  \n",
       "3      AWDN_AWDN_NorthPlatte_sm_0.250000_0.250000_The...  \n",
       "4      AWDN_AWDN_Smithfield_sm_1.000000_1.000000_Thet...  \n",
       "...                                                  ...  \n",
       "25344  IMA-CAN1_IMA-CAN1_station3_sm_0.100000_0.10000...  \n",
       "25345  IMA-CAN1_IMA-CAN1_station10_sm_0.100000_0.1000...  \n",
       "25346  IMA-CAN1_IMA-CAN1_station10_ts_0.100000_0.1000...  \n",
       "25347  IMA-CAN1_IMA-CAN1_station11_sm_0.100000_0.1000...  \n",
       "25348  IMA-CAN1_IMA-CAN1_station11_ts_0.100000_0.1000...  \n",
       "\n",
       "[25349 rows x 11 columns]"
      ]
     },
     "execution_count": 6,
     "metadata": {},
     "output_type": "execute_result"
    }
   ],
   "source": [
    "from tqdm import tqdm\n",
    "import pandas as pd\n",
    "import io\n",
    "\n",
    "buffer = io.StringIO()\n",
    "buffer.write(\"network,station,station_name,lat,lon,elevation,depth_from,depth_to,variable,device,filename\\n\")\n",
    "def parse_file(path):\n",
    "    with open(path, 'r') as f:\n",
    "        raw_header = f.readline()\n",
    "        header = [c.strip() for c in raw_header.split(' ') if c != '']\n",
    "\n",
    "        # we overwrite the network and station information from the file, as these differ\n",
    "        path_chunks = Path(path).name.split('_')\n",
    "        \n",
    "        # quote the network and station name\n",
    "        header[0] = f'\"{path_chunks[0]}\"'\n",
    "        header[1] = f'\"{path_chunks[1]}\"'\n",
    "        header[2] = f'\"{path_chunks[2]}\"'\n",
    "        static = ','.join(header[:8])\n",
    "        device = ' '.join(header[8:]).replace(',', '_')\n",
    "        line = f\"{static},{path_chunks[3]},{device},\\\"{Path(path).name}\\\"\\n\"\n",
    "\n",
    "        return line\n",
    "        # return [*header[:8], ' '.join(header[8:]), Path(path).name]\n",
    "\n",
    "\n",
    "for file_name in tqdm(all_files):\n",
    "    header_line = parse_file(file_name)\n",
    "    buffer.write(header_line)\n",
    "\n",
    "buffer.seek(0)\n",
    "df = pd.read_csv(buffer, quotechar='\"')\n",
    "\n",
    "df"
   ]
  },
  {
   "cell_type": "code",
   "execution_count": 7,
   "metadata": {},
   "outputs": [],
   "source": [
    "# drop the database if it exists and the user wants to force rebuild it\n",
    "\n",
    "if db_path.exists() and force_rebuild_duckdb:\n",
    "    print(f\"The database {db_path} already exists, but is forced to be dropped...\")\n",
    "    db_path.unlink()"
   ]
  },
  {
   "cell_type": "code",
   "execution_count": 8,
   "metadata": {},
   "outputs": [],
   "source": [
    "# build the DuckDB database\n",
    "with duckdb.connect(str(db_path), read_only=False) as db:\n",
    "    db.sql(\"CREATE TABLE IF NOT EXISTS metadata AS SELECT * FROM df;\")"
   ]
  },
  {
   "cell_type": "code",
   "execution_count": 9,
   "metadata": {},
   "outputs": [
    {
     "name": "stdout",
     "output_type": "stream",
     "text": [
      "['sm' 'ts' 'ta' 'p' 'sd' 'tsf' 'sweq' 'su']\n"
     ]
    }
   ],
   "source": [
    "print(df.variable.unique())\n",
    "\n",
    "# match these names to something we can use\n",
    "# there is some info here: https://ismn.earth/media/filer_public/1f/4f/1f4f1b03-550b-4b63-b680-fc9695d6feec/data_template_description_28082023.pdf\n",
    "# sm = soil moisture\n",
    "# ts = soil temperature\n",
    "# ta = air temperature\n",
    "# p = precipitation\n",
    "# sd = snow-depth\n",
    "# sweq = snow water equivalent\n",
    "lookup = {\n",
    "    'sm': 12,\n",
    "    'ts': 2,\n",
    "    'ta': 1,\n",
    "    'p': 8,\n",
    "    'su': 15\n",
    "}"
   ]
  },
  {
   "cell_type": "code",
   "execution_count": 14,
   "metadata": {},
   "outputs": [
    {
     "data": {
      "text/plain": [
       "[Variable(id=12, name='volumetric water content', symbol='theta', unit=Unit(id=113, name='cm3/cm3', symbol='cm3/cm3'), column_names=['volumetric_water_content'], keyword=Keyword(id=5727, uuid='bbe2ea34-8842-4a9f-9b0b-95dd3c71857f', value='SOIL MOISTURE/WATER CONTENT', path='EARTH SCIENCE > LAND SURFACE > SOILS > SOIL MOISTURE/WATER CONTENT', thesaurusName=Thesaurus(id=1, uuid='2e54668d-8fae-429f-a511-efe529420b12', name='GCMD', title='NASA/GCMD Earth Science Keywords', organisation='NASA', url='https://gcmdservices.gsfc.nasa.gov/kms/concepts/concept_scheme/sciencekeywords/?format=xml', description='NASA Global Clime change Master Dictionary Science Keywords')))]"
      ]
     },
     "execution_count": 14,
     "metadata": {},
     "output_type": "execute_result"
    }
   ],
   "source": [
    "core.variables(id=12)"
   ]
  },
  {
   "cell_type": "markdown",
   "metadata": {},
   "source": [
    "## Load static properties"
   ]
  },
  {
   "cell_type": "code",
   "execution_count": 30,
   "metadata": {},
   "outputs": [
    {
     "name": "stdout",
     "output_type": "stream",
     "text": [
      "Found 3210 files\n"
     ]
    }
   ],
   "source": [
    "all_meta = glob.glob('/data/raw/**/**/*.csv')\n",
    "print(f\"Found {len(all_meta)} files\")"
   ]
  },
  {
   "cell_type": "code",
   "execution_count": null,
   "metadata": {},
   "outputs": [
    {
     "data": {
      "text/plain": [
       "('AWDN', 'AWDN', 'NorthPlatte')"
      ]
     },
     "execution_count": 16,
     "metadata": {},
     "output_type": "execute_result"
    }
   ],
   "source": [
    "def get_static_attributes(path):\n",
    "    # get the network and station name from the file name\n",
    "    network, station, station_name, *_ = Path(path).name.split('_')\n",
    "\n",
    "    # load the static attributes from the file\n",
    "    attrs = pd.read_csv(path, sep=';', header=None)\n",
    "\n",
    "    return network, station, station_name\n",
    "#details = pd.read_csv(all_meta[0], sep=';')\n",
    "#details['']\n",
    "\n",
    "get_static_attributes(all_files[0])"
   ]
  }
 ],
 "metadata": {
  "kernelspec": {
   "display_name": "Python 3 (ipykernel)",
   "language": "python",
   "name": "python3"
  },
  "language_info": {
   "codemirror_mode": {
    "name": "ipython",
    "version": 3
   },
   "file_extension": ".py",
   "mimetype": "text/x-python",
   "name": "python",
   "nbconvert_exporter": "python",
   "pygments_lexer": "ipython3",
   "version": "3.12.7"
  }
 },
 "nbformat": 4,
 "nbformat_minor": 2
}
