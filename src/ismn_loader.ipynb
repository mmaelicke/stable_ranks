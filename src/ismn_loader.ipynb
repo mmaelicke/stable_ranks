{
 "cells": [
  {
   "cell_type": "markdown",
   "metadata": {
    "vscode": {
     "languageId": "plaintext"
    }
   },
   "source": [
    "# ISMN loader\n",
    "\n",
    "This template follows the tool-specs for reproducible research found at: [https://vforwater.github.io/tool-specs/](https://vforwater.github.io/tool-specs/).\n",
    "\n",
    "This notebook creates the dataset needed for the other tools to run. To reproduce the dataset, you will need a running MetaCatalog \n",
    "instance, with a dump from the ISMN database covering the area of interest. The docker compose service `db` connects the \n",
    "instance and uses MetaCatalog-API to load the data into a local DuckDB database.\n",
    "\n",
    "All subsequent notebooks will use the data from this notebook to run the other tools, so that a connection to the MetaCatalog\n",
    "instance is not needed."
   ]
  },
  {
   "cell_type": "markdown",
   "metadata": {},
   "source": [
    "## handle parameters directly in the notebook\n",
    "\n",
    "This is an **alternative** approach to the globally defined parameters. All tool-spec compliant tools using a supported language include a package called `json2args` in their dependencies. This package can be used to gain larger control over the passed parameters and data."
   ]
  },
  {
   "cell_type": "code",
   "execution_count": null,
   "metadata": {},
   "outputs": [],
   "source": [
    "import numpy as np\n",
    "import pandas as pd\n",
    "import polars as pl\n",
    "import duckdb"
   ]
  },
  {
   "cell_type": "code",
   "execution_count": null,
   "metadata": {
    "editable": true,
    "slideshow": {
     "slide_type": ""
    },
    "tags": [
     "parameters"
    ]
   },
   "outputs": [],
   "source": [
    "database_name = 'database.duckdb'\n",
    "force_rebuild_duckdb=True"
   ]
  },
  {
   "cell_type": "markdown",
   "metadata": {
    "editable": true,
    "slideshow": {
     "slide_type": ""
    },
    "tags": []
   },
   "source": [
    "## Load the data"
   ]
  },
  {
   "cell_type": "code",
   "execution_count": null,
   "metadata": {},
   "outputs": [],
   "source": [
    "from metacatalog_api import core"
   ]
  },
  {
   "cell_type": "markdown",
   "metadata": {},
   "source": [
    "Seach the MetaCatalog database to find any Metadata record running with 'ISMN' in the title and count them."
   ]
  },
  {
   "cell_type": "code",
   "execution_count": null,
   "metadata": {},
   "outputs": [],
   "source": [
    "metadata = core.entries(filter={'entries.title': '%ISMN%'}, limit=None)\n",
    "\n",
    "len(metadata)"
   ]
  },
  {
   "cell_type": "code",
   "execution_count": null,
   "metadata": {},
   "outputs": [],
   "source": [
    "# get all varibales\n",
    "np.unique([m.variable.name for m in metadata])"
   ]
  },
  {
   "cell_type": "code",
   "execution_count": null,
   "metadata": {},
   "outputs": [],
   "source": [
    "# How many soil moisture sensors?\n",
    "len([m for m in metadata if m.variable.name == 'volumetric water content'])"
   ]
  },
  {
   "cell_type": "markdown",
   "metadata": {},
   "source": [
    "Define a function to read the data into a duckdb database."
   ]
  },
  {
   "cell_type": "code",
   "execution_count": null,
   "metadata": {},
   "outputs": [],
   "source": [
    "from pathlib import Path\n",
    "\n",
    "# handle recreation\n",
    "db_path = Path('/out') / database_name\n",
    "if db_path.exists() and force_rebuild_duckdb:\n",
    "    print(f\"The database {db_path} already exists, but is forced to be dropped...\")\n",
    "    db_path.unlink()"
   ]
  },
  {
   "cell_type": "code",
   "execution_count": null,
   "metadata": {},
   "outputs": [],
   "source": [
    "# define a function to load the data\n",
    "def load_data(meta, db_name):\n",
    "    # get the metadata needed\n",
    "    table_name = meta.datasource.path\n",
    "    var_name = meta.variable.name.replace(' ', '_')\n",
    "    oid = meta.id\n",
    "\n",
    "    # connect\n",
    "    with core.connect() as cur:\n",
    "            df = pl.read_database(f\"SELECT * FROM {table_name};\", cur)\n",
    "\n",
    "    # add the id column\n",
    "    df = df.with_columns(pl.lit(meta.id, dtype=pl.Int16).alias('meta_id'))\n",
    "\n",
    "    # add to duckdb\n",
    "    with duckdb.connect(db_name, read_only=False) as db:\n",
    "        try:\n",
    "            db.sql(f\"CREATE TABLE {var_name} AS SELECT * FROM df;\")\n",
    "        except duckdb.CatalogException:\n",
    "            db.sql(f\"INSERT INTO {var_name} SELECT * FROM df;\")\n"
   ]
  },
  {
   "cell_type": "markdown",
   "metadata": {},
   "source": [
    "**The next cell will actually run the data-loading**"
   ]
  },
  {
   "cell_type": "code",
   "execution_count": null,
   "metadata": {},
   "outputs": [],
   "source": [
    "from tqdm import tqdm\n",
    "\n",
    "for meta in tqdm(metadata):\n",
    "    load_data(meta,  str(db_path))"
   ]
  },
  {
   "cell_type": "markdown",
   "metadata": {},
   "source": [
    "### Load the metadata\n",
    "\n",
    "We dump every single metadata entry as JSON to a temporary folder "
   ]
  },
  {
   "cell_type": "code",
   "execution_count": null,
   "metadata": {},
   "outputs": [],
   "source": [
    "# install the spatial extension\n",
    "with duckdb.connect(str(db_path), read_only=True) as db:\n",
    "    db.install_extension('spatial')"
   ]
  },
  {
   "cell_type": "code",
   "execution_count": null,
   "metadata": {},
   "outputs": [],
   "source": [
    "import tempfile\n",
    "\n",
    "sql = \"\"\"\n",
    "CREATE table raw_metadata AS SELECT * FROM read_json('%s/export_*.json', columns={\n",
    "    id: 'INTEGER',\n",
    "    title: 'TEXT',\n",
    "    abstract: 'TEXT',\n",
    "    location: 'TEXT',\n",
    "    details: 'JSON',\n",
    "    variable: 'JSON'\n",
    "});\n",
    "\"\"\"\n",
    "\n",
    "with tempfile.TemporaryDirectory() as tmp:\n",
    "    path = Path(tmp)\n",
    "    print(f\"Populating temporary folder: {path}\")\n",
    "    \n",
    "    # go for all entries\n",
    "    for meta in tqdm(metadata):\n",
    "        with open(path / f\"export_{meta.id}.json\", \"w\") as f:\n",
    "            f.write(meta.model_dump_json())\n",
    "\n",
    "    # add to duckdb\n",
    "    with duckdb.connect(str(db_path), read_only=False) as db:\n",
    "        db.load_extension('spatial')\n",
    "        db.sql(sql % tmp)\n",
    "\n",
    "# after that, create a nicer overview table\n",
    "sql = \"\"\"\n",
    "CREATE TABLE metadata AS\n",
    "SELECT \n",
    "    id, \n",
    "    ST_X(location::Geometry) as lon, \n",
    "    ST_Y(location::Geometry) as lat,\n",
    "    trim(variable.name, '\"') as variable,\n",
    "    list_transform(\n",
    "        list_filter(details::JSON[], d -> trim(json_value(d, '$.key'), '\"') = 'depth_from'),\n",
    "        d -> trim(json_value(d, '$.value'), '\"')::FLOAT\n",
    "    )[1] AS depth_from,\n",
    "    list_transform(\n",
    "        list_filter(details::JSON[], d -> trim(json_value(d, '$.key'), '\"') = 'depth_to'),\n",
    "        d -> trim(json_value(d, '$.value'), '\"')::FLOAT\n",
    "    )[1] AS depth_to,\n",
    "    list_transform(\n",
    "        list_filter(details::JSON[], d -> trim(json_value(d, '$.key'), '\"') = 'network'),\n",
    "        d -> trim(json_value(d, '$.value'), '\"')::TEXT\n",
    "    )[1] AS network\n",
    "FROM raw_metadata;\n",
    "\"\"\"\n",
    "\n",
    "with duckdb.connect(str(db_path), read_only=False) as db:\n",
    "    db.load_extension('spatial')\n",
    "    db.sql(sql)"
   ]
  },
  {
   "cell_type": "markdown",
   "metadata": {},
   "source": [
    "## Some overviews"
   ]
  },
  {
   "cell_type": "code",
   "execution_count": null,
   "metadata": {},
   "outputs": [],
   "source": [
    "import duckdb\n",
    "from pathlib import Path\n",
    "db_path = Path('/out') / database_name\n",
    "\n",
    "# at first install the spatial extension into it\n",
    "with duckdb.connect(str(db_path), read_only=True) as db:\n",
    "    db.install_extension('spatial')"
   ]
  },
  {
   "cell_type": "code",
   "execution_count": null,
   "metadata": {},
   "outputs": [],
   "source": [
    "# load them\n",
    "with duckdb.connect(str(db_path), read_only=True) as db:\n",
    "    db.load_extension('spatial')\n",
    "    df = db.sql('FROM metadata').pl()\n",
    "\n",
    "df"
   ]
  },
  {
   "cell_type": "code",
   "execution_count": null,
   "metadata": {},
   "outputs": [],
   "source": [
    "import folium\n",
    "\n",
    "template = \"\"\"\n",
    "<h3>{v}</h3>\n",
    "<p>Network: <strong>{net}</strong></p>\n",
    "<p>Depth: <strong>{f:.2f}</strong> - <strong>{t:.2f}</strong></p>\n",
    "\"\"\"\n",
    "\n",
    "colors =  {\"soil temperature\": \"brown\", \"air temperature\": \"red\", \"rainfall intensity\": \"purple\", \"volumetric water content\": \"blue\"}\n",
    "osm = folium.Map(location=[df['lat'].mean(), df['lon'].mean()], zoom_start=5)\n",
    "\n",
    "for row in df.iter_rows():\n",
    "    folium.CircleMarker(\n",
    "        location=[row[2], row[1]], radius=10, fill_color=colors.get(row[3], 'black'), \n",
    "        popup=template.format(v=row[3], net=row[6], f=row[4], t=row[5])\n",
    "    ).add_to(osm)\n",
    "osm"
   ]
  },
  {
   "cell_type": "code",
   "execution_count": null,
   "metadata": {},
   "outputs": [],
   "source": [
    "osm.save('/out/ismn_overview.html')"
   ]
  }
 ],
 "metadata": {
  "kernelspec": {
   "display_name": "Python 3 (ipykernel)",
   "language": "python",
   "name": "python3"
  },
  "language_info": {
   "codemirror_mode": {
    "name": "ipython",
    "version": 3
   },
   "file_extension": ".py",
   "mimetype": "text/x-python",
   "name": "python",
   "nbconvert_exporter": "python",
   "pygments_lexer": "ipython3",
   "version": "3.12.7"
  }
 },
 "nbformat": 4,
 "nbformat_minor": 4
}
